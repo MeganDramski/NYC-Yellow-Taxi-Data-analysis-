{
 "cells": [
  {
   "cell_type": "code",
   "execution_count": null,
   "metadata": {},
   "outputs": [],
   "source": [
    "import pandas as pd\n",
    "from datetime import datetime as dt\n",
    "import datetime\n",
    "from copy import deepcopy\n",
    "from IPython.core.display import display, HTML\n",
    "import matplotlib.pyplot as plt\n",
    "import pylab as pl\n",
    "%matplotlib inline\n",
    "\n",
    "\n",
    "import gmplot\n",
    "from geopy.geocoders import OpenCage, Nominatim, GoogleV3"
   ]
  },
  {
   "cell_type": "code",
   "execution_count": 3,
   "metadata": {},
   "outputs": [],
   "source": [
    " def GenerateJupyterLink(FileLocation, LinkText):\n",
    "    FileLocation = FileLocation.replace('\\\\','/')\n",
    "    Link = '<a href=\"%s\">%s</a>' % (FileLocation, LinkText +\" - \"+FileLocation)\n",
    "    display(HTML(Link))\n",
    "\n",
    "def printHTML_DF(dataframe):\n",
    "        display(HTML(dataframe.to_html(escape=False)))\n"
   ]
  },
  {
   "cell_type": "code",
   "execution_count": 4,
   "metadata": {},
   "outputs": [],
   "source": [
    "Data= \"/Users/meganpolak/Downloads/2016_Yellow_Taxi_Trip_Data-1.csv'\"\n",
    "Output=\"/Users/meganpolak/Downloads/Output\""
   ]
  },
  {
   "cell_type": "code",
   "execution_count": null,
   "metadata": {},
   "outputs": [],
   "source": [
    "\n",
    "\n",
    "Raw = pd.read_csv(Data)\n",
    "Raw = Raw[(Raw.pickup_longitude.notnull()) & Raw.dropoff_longitude.notnull()]\n",
    "\n",
    "Raw = Raw.query('pickup_latitude != 0 or pickup_longitude != 0')\n",
    "Raw= Raw.query('dropoff_latitude != 0 or dropoff_longitude != 0')\n",
    "\n",
    "Raw['tpep_pickup_datetime'] = Data['tpep_pickup_datetime'].apply(lambda x : dt.strptime(x, \"%m/%d/%y %H:%M\"))\n",
    "Raw['tpep_dropoff_datetime'] = Raw['tpep_dropoff_datetime'].apply(lambda x : dt.strptime(x, \"%m/%d/%y %H:%M\"))\n",
    "Raw['PickupMonth'] = Raw['tpep_pickup_datetime'].dt.month\n",
    "Raw['DropoffMonth'] = Raw['tpep_dropoff_datetime'].dt.month\n",
    "\n",
    "printHTML_DF(Raw.head(5))"
   ]
  },
  {
   "cell_type": "code",
   "execution_count": null,
   "metadata": {},
   "outputs": [],
   "source": [
    "round_num = 2\n",
    "Locations = Raw[['pickup_longitude','pickup_latitude']].rename(columns = {'pickup_longitude':'longitude', 'pickup_latitude':'latitude'})\n",
    "Locations2 = Raw[['dropoff_longitude','dropoff_latitude']].rename(columns = {'dropoff_longitude':'longitude', 'dropoff_latitude':'latitude'})\n",
    "Locations = pd.concat([Locations,Locations2], ignore_index=True).round(round_num)\n",
    "\n",
    "Locations = Locations.drop_duplicates()\n",
    "\n",
    "Locations.to_excel(OutputFolder + \"RawLocations.xlsx\", index=False)"
   ]
  },
  {
   "cell_type": "code",
   "execution_count": null,
   "metadata": {},
   "outputs": [],
   "source": [
    "q=0\n",
    "Encoder_OpenCage = OpenCage(api_key ='afa174d328b0405486d75341c3c43a60')\n",
    "Encoder_Nominatim = Nominatim()\n",
    "Encoder_Google = GoogleV3()\n",
    "\n",
    "def MapLocation(x):\n",
    "    global q\n",
    "    LocatorString = str(x['latitude'])+\",\"+str(x['longitude'])\n",
    "    try:\n",
    "        location = Encoder_Nominatim.reverse(LocatorString)\n",
    "        if pd.isnull(location.address):\n",
    "            raise ValueError(\"Location Not Found\")\n",
    "        print(str(q)+\" \"+str(location.address))\n",
    "        q=q+1\n",
    "        return location.address\n",
    "    except Exception as e1:\n",
    "        print(e1)\n",
    "        try:\n",
    "            location = Encoder_OpenCage.reverse(LocatorString)[0]\n",
    "            if pd.isnull(location.address):\n",
    "                raise ValueError(\"Location Not Found\")\n",
    "            print(str(q)+\" \"+str(location.address))\n",
    "            q=q+1\n",
    "            return location.address\n",
    "        except Exception as e2:\n",
    "            print(e2)\n",
    "            try:\n",
    "                location = Encoder_Google.reverse(LocatorString)[0]\n",
    "                if pd.isnull(location.address):\n",
    "                    raise ValueError(\"Location Not Found\")\n",
    "                print(str(q)+\" \"+str(location.address))\n",
    "                q=q+1\n",
    "                return location.address\n",
    "            except Exception as e3:\n",
    "                print(e3)\n",
    "                return None"
   ]
  },
  {
   "cell_type": "code",
   "execution_count": null,
   "metadata": {},
   "outputs": [],
   "source": [
    "Locations['Address'] = Locations.apply(MapLocation, axis=1)\n",
    "Locations.to_excel(OutputFolder + \"LocationMap.xlsx\", index=False)"
   ]
  },
  {
   "cell_type": "code",
   "execution_count": null,
   "metadata": {},
   "outputs": [],
   "source": [
    "Locations = pd.read_excel(OutputFolder + \"LocationMap.xlsx\")"
   ]
  },
  {
   "cell_type": "code",
   "execution_count": null,
   "metadata": {},
   "outputs": [],
   "source": [
    "Locations['LatLong'] = Locations['latitude'].astype(str) + ' , ' + Locations['longitude'].astype(str) \n",
    "Locations['Address'] = Locations['Address'].fillna(Locations['LatLong'])\n",
    "Locations = Locations.drop(columns=['LatLong'])\n",
    "\n",
    "\n",
    "Locations.loc[(Locations['Address'].str.contains(\"Terminal\", regex=False)) & (Locations['Address'].str.contains(\"11434\", regex=False)),'Address'] = \"John F Kennedy International Airport, Bayswater, Queens County, NYC, New York, 11434, United States of America\"\n",
    "\n",
    "Cols = ['pickup_longitude','pickup_latitude','dropoff_longitude','dropoff_latitude']\n",
    "\n",
    "for col in Cols:\n",
    "    Raw[col+str(\"_round\")] = Raw[col].round(round_num)\n",
    "\n",
    "Raw = pd.merge(Raw, Locations.rename(columns ={'Address':'PickupAddress'}), how='left', left_on=['pickup_latitude_round','pickup_longitude_round'], right_on =['latitude','longitude']).drop(columns =['latitude','longitude'])\n",
    "Raw= pd.merge(Raw, Locations.rename(columns ={'Address':'DropoffAddress'}), how='left', left_on=['dropoff_latitude_round','dropoff_longitude_round'], right_on =['latitude','longitude']).drop(columns =['latitude','longitude'])\n",
    "\n",
    "printHTML_DF(Raw.head(5))"
   ]
  },
  {
   "cell_type": "code",
   "execution_count": null,
   "metadata": {},
   "outputs": [],
   "source": [
    "# Question 1\n",
    "MonthlyPickupCount = Raw[['PickupMonth','tpep_pickup_datetime']].groupby('PickupMonth').count().rename(columns = {'tpep_pickup_datetime':'No. of Pickups'}).reset_index(drop=False) \n",
    "MonthlyPickupCount['PickupMonth'] = MonthlyPickupCount['PickupMonth'].apply(lambda x:datetime.date(1900,x,1).strftime('%B'))\n",
    "MonthlyPickupCount = MonthlyPickupCount.set_index('PickupMonth')\n",
    "printHTML_DF(MonthlyPickupCount)\n",
    "plt = MonthlyPickupCount.plot(kind='bar', title=\"No. of Pickups per Month\")\n",
    "plt.legend(loc=9, bbox_to_anchor=(0.8, -0.15))\n",
    "print(\"\\nMax Pickups are in the month of \" + str(MonthlyPickupCount['No. of Pickups'].idxmax()))"
   ]
  },
  {
   "cell_type": "code",
   "execution_count": null,
   "metadata": {},
   "outputs": [],
   "source": [
    "# Question 2\n",
    "\n",
    "def bin_times(x):\n",
    "    \n",
    "    Time = x.time()\n",
    "    \n",
    "    if Time <= datetime.time(10):\n",
    "        if Time <= datetime.time(4):\n",
    "            slot = \"21:00 - 04:00\"\n",
    "        else:\n",
    "            slot = \"04:00 - 10:00\"\n",
    "    elif Time <= datetime.time(15):\n",
    "        slot = \"10:00 - 15:00\"\n",
    "    elif Time<= datetime.time(21):\n",
    "        slot = \"15:00 - 21:00\"\n",
    "    else:\n",
    "        slot = \"21:00 - 04:00\"\n",
    "    \n",
    "    return slot\n",
    "\n",
    "Raw[\"PickupSlot\"] = Raw[\"tpep_pickup_datetime\"].apply(bin_times)\n",
    "Raw[\"DropoffSlot\"] = Raw[\"tpep_dropoff_datetime\"].apply(bin_times)\n",
    "\n",
    "MonthlyPickupSlotMaster = Raw[['PickupMonth','PickupSlot','tpep_pickup_datetime']].groupby(['PickupMonth', 'PickupSlot']).count().reset_index(drop=False)\n",
    "MonthlyPickupSlot = MonthlyPickupSlotMaster.groupby(['PickupMonth']).apply(lambda x: x.loc[x['tpep_pickup_datetime'].idxmax()]).reset_index(drop=True).rename(columns = {'tpep_pickup_datetime':'No. of Pickups', 'PickupSlot':'Max Pickups Slot'})\n",
    "MonthlyPickupSlot['PickupMonth'] = MonthlyPickupSlot['PickupMonth'].apply(lambda x:datetime.date(1900,x,1).strftime('%B'))\n",
    "MonthlyPickupSlot = MonthlyPickupSlot.set_index('PickupMonth')\n",
    "printHTML_DF(MonthlyPickupSlot)\n",
    "\n",
    "\n",
    "MonthlyPickupSlotMaster = MonthlyPickupSlotMaster.pivot(index=\"PickupMonth\", columns = \"PickupSlot\", values = \"tpep_pickup_datetime\").reset_index(drop=False)\n",
    "\n",
    "MonthlyPickupSlotMaster['PickupMonth'] = MonthlyPickupSlotMaster['PickupMonth'].apply(lambda x:datetime.date(1900,x,1).strftime('%B'))\n",
    "MonthlyPickupSlotMaster = MonthlyPickupSlotMaster.set_index('PickupMonth')\n",
    "plt = MonthlyPickupSlotMaster.plot(kind='bar',stacked=True, title=\"Pickups in given slot\")\n",
    "plt.legend(loc=9, bbox_to_anchor=(0.8, -0.15))"
   ]
  },
  {
   "cell_type": "code",
   "execution_count": null,
   "metadata": {},
   "outputs": [],
   "source": [
    "# Question 3\n",
    "MonthlyLongest = Raw.groupby('PickupMonth').apply(lambda x: x.loc[x['trip_distance'].idxmax()]).rename(columns = {'trip_distance':'Longest Trip Distance'}).reset_index(drop=True)\n",
    "MonthlyLongest['PickupMonth'] = MonthlyLongest['PickupMonth'].apply(lambda x:datetime.date(1900,x,1).strftime('%B'))\n",
    "MonthlyLongest = MonthlyLongest.set_index('PickupMonth')\n",
    "printHTML_DF(MonthlyLongest[['Longest Trip Distance']])\n",
    "MonthlyLongest[['Longest Trip Distance']].plot(kind = 'bar', title = \"Longest Trip per Month\")\n",
    "print(\"\\nLongest Longest Distance Trip is in the month of \" + str(MonthlyLongest['Longest Trip Distance'].idxmax()))"
   ]
  },
  {
   "cell_type": "code",
   "execution_count": null,
   "metadata": {},
   "outputs": [],
   "source": [
    "# Question 4\n",
    "printHTML_DF(MonthlyLongest[['PickupAddress','DropoffAddress','dropoff_longitude', 'dropoff_latitude', 'fare_amount', 'Longest Trip Distance']])\n"
   ]
  },
  {
   "cell_type": "code",
   "execution_count": null,
   "metadata": {},
   "outputs": [],
   "source": [
    "# Question 5\n",
    "\n",
    "MonthlyExpensive = Raw.groupby('PickupMonth').apply(lambda x: x.loc[x['fare_amount'].idxmax()]).rename(columns = {'fare_amount':'Most Expensive Trip'}).reset_index(drop=True)\n",
    "MonthlyExpensive['PickupMonth'] = MonthlyExpensive['PickupMonth'].apply(lambda x:datetime.date(1900,x,1).strftime('%B'))\n",
    "MonthlyExpensive = MonthlyExpensive.set_index('PickupMonth')\n",
    "printHTML_DF(MonthlyExpensive[['Most Expensive Trip']])\n",
    "MonthlyExpensive[['Most Expensive Trip']].plot(kind = 'bar', title=\"Max Trip Cost per month\")\n",
    "\n",
    "print(\"\\nHighest Most Expensive Trip is in the month of \" + str(MonthlyExpensive['Most Expensive Trip'].idxmax()))"
   ]
  },
  {
   "cell_type": "code",
   "execution_count": null,
   "metadata": {},
   "outputs": [],
   "source": [
    "# Question 6\n",
    "AirportsList = [\"Aloft New York LaGuardia Airport, 100-15, Ditmars Boulevard, North Beach, Queens County, NYC, New York, 11369, United States of America\",\"John F Kennedy International Airport, Bayswater, Queens County, NYC, New York, 11434, United States of America\"]\n",
    "Airports={}\n",
    "Airports[AirportsList[0]] = \"LaGuardia Airport\"\n",
    "Airports[AirportsList[1]] = \"JFK Airport\"\n",
    "\n",
    "MonthlyAirportDropoffs = Raw[RawData.DropoffAddress.isin(AirportsList)]\n",
    "MonthlyAirportDropoffs = MonthlyAirportDropoffs[['PickupMonth','DropoffAddress','tpep_pickup_datetime']].groupby(['PickupMonth','DropoffAddress']).count().reset_index(drop=False).rename(columns={'tpep_pickup_datetime':'No. of Dropoffs'}).sort_values(\"PickupMonth\")\n",
    "\n",
    "MonthlyMaxAirport = MonthlyAirportDropoffs.groupby(['PickupMonth']).apply(lambda x: x.loc[x['No. of Dropoffs'].idxmax()]).reset_index(drop=True)\n",
    "MonthlyAirportDropoffsWide = MonthlyAirportDropoffs.pivot(index=\"PickupMonth\", columns = \"DropoffAddress\", values = \"No. of Dropoffs\").rename(columns = Airports).reset_index(drop=False)\n",
    "\n",
    "MonthlyAirportDropoffs['PickupMonth'] = MonthlyAirportDropoffs['PickupMonth'].apply(lambda x:datetime.date(1900,x,1).strftime('%B'))\n",
    "MonthlyAirportDropoffs = MonthlyAirportDropoffs.set_index('PickupMonth')\n",
    "printHTML_DF(MonthlyAirportDropoffs)\n",
    "\n",
    "MonthlyMaxAirport['PickupMonth'] = MonthlyMaxAirport['PickupMonth'].apply(lambda x:datetime.date(1900,x,1).strftime('%B'))\n",
    "MonthlyMaxAirport = MonthlyMaxAirport.rename(columns = {\"No. of Dropoffs\":\"Maximum No. of Drops\"}).set_index('PickupMonth')\n",
    "print(\"\\nMaximum Airport Drops per Month\")\n",
    "printHTML_DF(MonthlyMaxAirport)\n",
    "\n",
    "MonthlyAirportDropoffsWide['PickupMonth'] = MonthlyAirportDropoffsWide['PickupMonth'].apply(lambda x:datetime.date(1900,x,1).strftime('%B'))\n",
    "MonthlyAirportDropoffsWide = MonthlyAirportDropoffsWide.set_index('PickupMonth')\n",
    "plt = MonthlyAirportDropoffsWide.plot(kind='bar',stacked=True, title=\"Dropoffs per airport\")\n",
    "plt.legend(loc=9, bbox_to_anchor=(0.8, -0.15))"
   ]
  },
  {
   "cell_type": "code",
   "execution_count": null,
   "metadata": {},
   "outputs": [],
   "source": [
    "# Question 7\n",
    "MonthlyCommonPaymentMaster = Raw[['PickupMonth','payment_type','total_amount']].groupby(['PickupMonth', 'payment_type']).count().reset_index(drop=False)\n",
    "MonthlyCommonPayment = MonthlyCommonPaymentMaster.groupby(['PickupMonth']).apply(lambda x: x.loc[x['total_amount'].idxmax()]).reset_index(drop=True).rename(columns = {'total_amount':'No. of Payments', 'payment_type':'Max Payments Type'})\n",
    "MonthlyCommonPayment2 = Raw[['PickupMonth','payment_type','total_amount']].groupby(['PickupMonth', 'payment_type']).sum().reset_index(drop=False)\n",
    "\n",
    "MonthlyCommonPayment = pd.merge(MonthlyCommonPayment, MonthlyCommonPayment2, how = 'left', left_on=[\"PickupMonth\",\"Max Payments Type\"], right_on = [\"PickupMonth\", \"payment_type\"]).drop(columns = [\"payment_type\"]).rename(columns = {'total_fare':'Total Amount Paid via Method'})\n",
    "\n",
    "MonthlyCommonPayment['PickupMonth'] = MonthlyCommonPayment['PickupMonth'].apply(lambda x:datetime.date(1900,x,1).strftime('%B'))\n",
    "MonthlyCommonPayment = MonthlyCommonPayment.set_index('PickupMonth')\n",
    "\n",
    "printHTML_DF(MonthlyCommonPayment)\n",
    "\n",
    "MonthlyCommonPaymentMaster = MonthlyCommonPaymentMaster.pivot(index=\"PickupMonth\", columns = \"payment_type\", values = \"total_amount\").reset_index(drop=False)\n",
    "\n",
    "MonthlyCommonPaymentMaster['PickupMonth'] = MonthlyCommonPaymentMaster['PickupMonth'].apply(lambda x:datetime.date(1900,x,1).strftime('%B'))\n",
    "MonthlyCommonPaymentMaster = MonthlyCommonPaymentMaster.set_index('PickupMonth')\n",
    "plt = MonthlyCommonPaymentMaster.plot(kind='bar',stacked=True, title=\"Payments by Type\")\n",
    "plt.legend(loc=9, bbox_to_anchor=(0.8, -0.15), ncol = 2)\n",
    "\n",
    " print(MonthlyPickupSlot)"
   ]
  },
  {
   "cell_type": "code",
   "execution_count": null,
   "metadata": {},
   "outputs": [],
   "source": [
    "# Question 8\n",
    "MonthlyMaxLocationPickup = Raw[['PickupMonth','PickupAddress','tpep_pickup_datetime']].groupby(['PickupMonth', 'PickupAddress']).count().reset_index(drop=False)\n",
    "MonthlyMaxLocationPickup = MonthlyMaxLocationPickup.groupby(['PickupMonth']).apply(lambda x: x.loc[x['tpep_pickup_datetime'].idxmax()]).reset_index(drop=True).rename(columns = {'tpep_pickup_datetime':'No. of Pickups', 'PickupAddress':'Max Pickups Location'})\n",
    "MonthlyMaxLocationPickup['PickupMonth'] = MonthlyMaxLocationPickup['PickupMonth'].apply(lambda x:datetime.date(1900,x,1).strftime('%B'))\n",
    "MonthlyMaxLocationPickup= MonthlyMaxLocationPickup.set_index('PickupMonth')\n",
    "printHTML_DF(MonthlyMaxLocationPickup)\n",
    "\n",
    "MonthlyMaxLocationDropoff = RawData[['DropoffMonth','DropoffAddress','tpep_dropoff_datetime']].groupby(['DropoffMonth', 'DropoffAddress']).count().reset_index(drop=False)\n",
    "MonthlyMaxLocationDropoff= MonthlyMaxLocationDropoff.groupby(['DropoffMonth']).apply(lambda x: x.loc[x['tpep_dropoff_datetime'].idxmax()]).reset_index(drop=True).rename(columns = {'tpep_dropoff_datetime':'No. of Dropoffs', 'DropoffAddress':'Max Dropoffs Location'})\n",
    "MonthlyMaxLocationDropoff['DropoffMonth'] = MonthlyMaxLocationDropoff['DropoffMonth'].apply(lambda x:datetime.date(1900,x,1).strftime('%B'))\n",
    "MonthlyMaxLocationDropoff= MonthlyMaxLocationDropoff.set_index('DropoffMonth')\n",
    "printHTML_DF(MonthlyMaxLocationDropoff)\n",
    "\n"
   ]
  },
  {
   "cell_type": "code",
   "execution_count": null,
   "metadata": {},
   "outputs": [],
   "source": [
    "# Question 9\n",
    "TripsToJFK = deepcopy(Raw[Raw.DropoffAddress == \"John F Kennedy International Airport, Bayswater, Queens County, NYC, New York, 11434, United States of America\"])\n",
    "TripsToJFK[\"TripLength\"] = TripsToJFK[\"tpep_dropoff_datetime\"] - TripsToJFK[\"tpep_pickup_datetime\"]\n",
    "\n",
    "print(TripsToJFK[\"TripLength\"].describe())\n",
    "TripLengthSeries = TripsToJFK['TripLength'].astype('timedelta64[s]').divide(60)\n",
    "plt = TripLengthSeries.hist(bins = 50)\n",
    "pl.suptitle(\"Histogram of Trip-Length\")"
   ]
  },
  {
   "cell_type": "code",
   "execution_count": null,
   "metadata": {},
   "outputs": [],
   "source": [
    "NightHotspots = deepcopy(Raw[Raw.DropoffSlot == \"21:00 - 04:00\"])\n",
    "MonthlyNightHotspots = NightHotspots[['DropoffMonth','DropoffAddress','tpep_dropoff_datetime']].groupby(['DropoffMonth', 'DropoffAddress']).count().reset_index(drop=False)\n",
    "MonthlyNightHotspots= MonthlyNightHotspots.groupby(['DropoffMonth']).apply(lambda x: x.loc[x['tpep_dropoff_datetime'].idxmax()]).reset_index(drop=True).rename(columns = {'tpep_dropoff_datetime':'No. of Dropoffs', 'DropoffAddress':'Max Dropoffs Location'})\n",
    "MonthlyNightHotspots['DropoffMonth'] = MonthlyNightHotspots['DropoffMonth'].apply(lambda x:datetime.date(1900,x,1).strftime('%B'))\n",
    "MonthlyNightHotspots= MonthlyNightHotspots.set_index('DropoffMonth')\n",
    "printHTML_DF(MonthlyNightHotspots)\n",
    "\n",
    "\n",
    "gmap = gmplot.GoogleMapPlotter(40.7128, -74.0060, 10)\n",
    "gmap.heatmap(NightHotspots['dropoff_latitude'], NightHotspots['dropoff_longitude'])\n",
    "gmap.draw(OutputFolder+\"NightSpots.html\")\n",
    "GenerateJupyterLink(OutputFolder+\"NightSpots.html\", \"Nightspots \")"
   ]
  },
  {
   "cell_type": "code",
   "execution_count": null,
   "metadata": {},
   "outputs": [],
   "source": []
  },
  {
   "cell_type": "code",
   "execution_count": null,
   "metadata": {},
   "outputs": [],
   "source": []
  }
 ],
 "metadata": {
  "kernelspec": {
   "display_name": "Python 3",
   "language": "python",
   "name": "python3"
  },
  "language_info": {
   "codemirror_mode": {
    "name": "ipython",
    "version": 3
   },
   "file_extension": ".py",
   "mimetype": "text/x-python",
   "name": "python",
   "nbconvert_exporter": "python",
   "pygments_lexer": "ipython3",
   "version": "3.6.5"
  }
 },
 "nbformat": 4,
 "nbformat_minor": 2
}
